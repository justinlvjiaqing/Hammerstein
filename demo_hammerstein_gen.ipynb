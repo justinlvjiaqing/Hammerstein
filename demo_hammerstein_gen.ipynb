{
 "cells": [
  {
   "cell_type": "markdown",
   "metadata": {},
   "source": [
    "The input-output relationship of the Hammerstein Model is described by: $$V_t=m(U_t),\\quad W_t=\\sum_{i=0}^p \\lambda_i V_t,\\quad Y_t = V_t + Z_t,$$\n"
   ]
  },
  {
   "attachments": {},
   "cell_type": "markdown",
   "metadata": {},
   "source": [
    "![jupyter](./img/Hammerstein.png)"
   ]
  },
  {
   "attachments": {},
   "cell_type": "markdown",
   "metadata": {},
   "source": [
    "Only (U_t, Y_t) is obsered. V_t and W_t are intermediate signals, and Z_t is a noise process. "
   ]
  },
  {
   "cell_type": "code",
   "execution_count": 31,
   "metadata": {},
   "outputs": [],
   "source": [
    "import numpy as np\n",
    "def Hammerstein(n,input_std, nonlinear_fun, linear_fun, noise_std):\n",
    "    n1 = n+len(linear_fun)\n",
    "    U = np.random.normal(loc=0,scale=input_std,size=(n1,1))\n",
    "    V = nonlinear_fun(U)\n",
    "    W = np.zeros([n1,1])\n",
    "    for i in range(1,len(linear_fun)):\n",
    "        W = V*linear_fun[i-1]+W\n",
    "    Z = np.random.normal(loc=0,scale=noise_std,size=(n1,1))\n",
    "    Y = W+Z\n",
    "    U = np.delete(U,np.arange(len(linear_fun)),axis=0)\n",
    "    Y = np.delete(Y,np.arange(len(linear_fun)),axis=0)\n",
    "    return U,Y\n"
   ]
  },
  {
   "cell_type": "code",
   "execution_count": 32,
   "metadata": {},
   "outputs": [],
   "source": [
    "n=100\n",
    "input_std=1\n",
    "noise_std=0.1\n",
    "nonlinear_fun = lambda x: x*3\n",
    "linear_fun = [1,-0.8,0.6,-0.4]\n",
    "U,Y = Hammerstein(n,input_std, nonlinear_fun, linear_fun, noise_std)"
   ]
  }
 ],
 "metadata": {
  "kernelspec": {
   "display_name": "Python 3",
   "language": "python",
   "name": "python3"
  },
  "language_info": {
   "name": "python",
   "version": "3.9.13"
  },
  "orig_nbformat": 4
 },
 "nbformat": 4,
 "nbformat_minor": 2
}
