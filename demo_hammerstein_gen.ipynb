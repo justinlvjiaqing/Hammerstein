{
 "cells": [
  {
   "attachments": {},
   "cell_type": "markdown",
   "metadata": {},
   "source": [
    "The input-output relationship of a Hammerstein Model is described by: $$V_t=m(U_t),\\quad W_t=\\sum_{i=0}^p \\lambda_i V_t,\\quad Y_t = V_t + Z_t,$$\n"
   ]
  },
  {
   "attachments": {},
   "cell_type": "markdown",
   "metadata": {},
   "source": [
    "![jupyter](./img/Hammerstein.png)"
   ]
  },
  {
   "attachments": {},
   "cell_type": "markdown",
   "metadata": {},
   "source": [
    "Only (U_t, Y_t) are obsered. V_t and W_t are intermediate signals, and Z_t is a noise process. "
   ]
  },
  {
   "cell_type": "code",
   "execution_count": 81,
   "metadata": {},
   "outputs": [],
   "source": [
    "import numpy as np\n",
    "from matplotlib import pyplot as plt\n",
    "def Hammerstein(n,input_std, nonlinear_fun, linear_fun, noise_std):\n",
    "    n1 = n+len(linear_fun)\n",
    "    U = np.random.normal(loc=0,scale=input_std,size=(n1,1))\n",
    "    V = nonlinear_fun(U)\n",
    "    V1 = V\n",
    "    W = np.zeros([n1,1])\n",
    "    for i in range(len(linear_fun)):\n",
    "        W = V1[:n1]*linear_fun[i]+W\n",
    "        V1 = np.insert(V1,0,0,axis=0)\n",
    "    Z = np.random.normal(loc=0,scale=noise_std,size=(n1,1))\n",
    "    Y = W+Z\n",
    "    U = U[len(linear_fun):]\n",
    "    Y = Y[len(linear_fun):]\n",
    "    return U,Y\n"
   ]
  },
  {
   "cell_type": "code",
   "execution_count": null,
   "metadata": {},
   "outputs": [],
   "source": [
    "n=100\n",
    "input_std=1\n",
    "noise_std=0.1\n",
    "nonlinear_fun = lambda x: x**3\n",
    "linear_fun = [1,-0.8,0.6,-0.4]\n",
    "U,Y = Hammerstein(n,input_std, nonlinear_fun, linear_fun, noise_std)"
   ]
  },
  {
   "cell_type": "code",
   "execution_count": 87,
   "metadata": {},
   "outputs": [
    {
     "data": {
      "image/png": "[encoded data removed]",
      "text/plain": [
       "<Figure size 432x288 with 1 Axes>"
      ]
     },
     "metadata": {
      "needs_background": "light"
     },
     "output_type": "display_data"
    }
   ],
   "source": [
    "plt.scatter(U,Y)\n",
    "plt.xlabel('input signal')\n",
    "plt.ylabel('output signal')\n",
    "plt.show()"
   ]
  }
 ],
 "metadata": {
  "kernelspec": {
   "display_name": "Python 3",
   "language": "python",
   "name": "python3"
  },
  "language_info": {
   "codemirror_mode": {
    "name": "ipython",
    "version": 3
   },
   "file_extension": ".py",
   "mimetype": "text/x-python",
   "name": "python",
   "nbconvert_exporter": "python",
   "pygments_lexer": "ipython3",
   "version": "3.9.13"
  },
  "orig_nbformat": 4
 },
 "nbformat": 4,
 "nbformat_minor": 2
}
